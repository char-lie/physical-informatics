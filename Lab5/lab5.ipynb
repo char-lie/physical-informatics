{
 "cells": [
  {
   "cell_type": "markdown",
   "metadata": {},
   "source": [
    "# Memristor"
   ]
  },
  {
   "cell_type": "markdown",
   "metadata": {},
   "source": [
    "## Equation\n",
    "We have an equation\n",
    "$$\n",
    "\\mu_U \\cdot R_+ \\cdot U \\left( t \\right) \\cdot \\theta\\left( \\omega \\right) \\cdot \\theta\\left( D - \\omega \\right)\n",
    "= \\frac{d\\omega}{dt}\n",
    "  \\cdot \\left[ R_+ \\cdot \\frac{\\omega\\left( t \\right)}{D}\n",
    "             + R_- \\cdot \\left( 1 - \\frac{\\omega\\left( t \\right)}{D} \\right) \\right]\n",
    "$$\n",
    "Heaviside functions product can be folded to indicator\n",
    "$$\n",
    "\\frac{d\\omega}{dt}\n",
    "  \\cdot \\left[ R_+ \\cdot \\frac{\\omega\\left( t \\right)}{D}\n",
    "             + R_- \\cdot \\left( 1 - \\frac{\\omega\\left( t \\right)}{D} \\right) \\right]\n",
    "  = \\mu_U \\cdot R_+ \\cdot U \\left( t \\right) \\cdot \\mathbb{1}\\left( 0 < \\omega\\left( t \\right) < D \\right)\n",
    "$$"
   ]
  },
  {
   "cell_type": "markdown",
   "metadata": {},
   "source": [
    "Let's integrate\n",
    "$$\n",
    "\\int\\limits_{w_0}^{w\\left( t \\right)} \\left[ \\omega\\left( t \\right) \\cdot \\frac{R_+ - R_-}{D}\n",
    "             + \\frac{R_-}{D} \\right] d\\omega\n",
    "  = \\mu_U \\cdot R_+\n",
    "      \\cdot \\int\\limits_0^t U \\left( t \\right) \\cdot \\mathbb{1}\\left( 0 < \\omega\\left( t \\right) < D \\right) dt\n",
    "$$\n",
    "We can put the indicator outside the integral\n",
    "$$\n",
    "\\int\\limits_{w_0}^{w\\left( t \\right)} \\left[ \\omega\\left( t \\right) \\cdot \\frac{R_+ - R_-}{D}\n",
    "             + \\frac{R_-}{D} \\right] d\\omega\n",
    "  = \\mu_U \\cdot R_+ \\cdot \\mathbb{1}\\left( 0 < \\omega\\left( t \\right) < D \\right)\n",
    "      \\cdot \\int\\limits_0^t U \\left( t \\right) dt\n",
    "$$"
   ]
  },
  {
   "cell_type": "markdown",
   "metadata": {},
   "source": [
    "Result looks like an equation\n",
    "$$\n",
    "\\omega^2 \\cdot \\frac{R_+ - R_-}{2 \\cdot D} + \\omega \\cdot \\frac{R_-}{D} - \\omega_0\n",
    "- \\mu_U \\cdot R_+ \\cdot \\mathbb{1}\\left( 0 < \\omega\\left( t \\right) < D \\right)\n",
    "    \\cdot \\int\\limits_0^t U \\left( t \\right) dt\n",
    "= 0, \\qquad\n",
    "\\omega_0 = \\omega\\left( 0 \\right)^2 \\cdot \\frac{R_+ - R_-}{2 \\cdot D} + \\omega\\left( 0 \\right) \\cdot \\frac{R_-}{D}\n",
    "$$\n",
    "\n",
    "Solutions are\n",
    "$$\n",
    "\\omega_{1, 2}\\left( t \\right) = \\frac{\n",
    "        - \\frac{R_-}{D} \\pm \\sqrt{\\left( \\frac{R_-}{D} \\right)^2\n",
    "        + 4 \\cdot \\left( \\omega_0 + \\mu_U \\cdot R_+ \\cdot \\mathbb{1}\\left( 0 < \\omega\\left( t \\right) < D \\right)\n",
    "            \\cdot \\int\\limits_0^t U \\left( t \\right) dt\n",
    "        \\right)\n",
    "    }}\n",
    "    {\\frac{R_+ - R_-}{D}}\n",
    "$$\n",
    "Can be simplified to\n",
    "$$\n",
    "\\omega_{1, 2}\\left( t \\right) = \\frac{\n",
    "        - R_- \\pm \\sqrt{R_-^2\n",
    "        + 4 \\cdot D^2 \\cdot \\left( \\omega_0 + \\mu_U \\cdot R_+ \\cdot \\mathbb{1}\\left( 0 < \\omega\\left( t \\right) < D \\right)\n",
    "            \\cdot \\int\\limits_0^t U \\left( t \\right) dt\n",
    "        \\right)\n",
    "    }}\n",
    "    {R_+ - R_-}\n",
    "$$"
   ]
  },
  {
   "cell_type": "markdown",
   "metadata": {},
   "source": [
    "## Constant voltage\n",
    "\n",
    "Assume $U = U_0$\n",
    "$$\n",
    "\\omega_{1, 2}\\left( t \\right) = \\frac{\n",
    "        - R_- \\pm \\sqrt{R_-^2\n",
    "        + 4 \\cdot D^2 \\left( \\omega_0 + \\mu_U \\cdot R_+ \\cdot U_0 \\cdot t\n",
    "            \\cdot \\mathbb{1}\\left( 0 < \\omega\\left( t \\right) < D \\right)\n",
    "        \\right)\n",
    "    }}\n",
    "    {R_+ - R_-}\n",
    "$$"
   ]
  },
  {
   "cell_type": "markdown",
   "metadata": {},
   "source": [
    "## Sine voltage\n",
    "\n",
    "Assume $U = U_0 \\cdot \\sin{\\left( \\omega\\left( 0 \\right) \\cdot t \\right)}$\n",
    "$$\n",
    "\\omega_{1, 2}\\left( t \\right) = \\frac{\n",
    "        - R_- \\pm \\sqrt{R_-^2\n",
    "        + \\frac{4 \\cdot D^2}{\\omega\\left( 0 \\right)} \\cdot \\left( \\omega_0 \\cdot \\omega\\left( 0 \\right) - \\mu_U \\cdot R_+\n",
    "            \\cdot U_0 \\cdot \\cos{\\left( \\omega\\left( 0 \\right) \\cdot t \\right)}\n",
    "            \\cdot \\mathbb{1}\\left( 0 < \\omega\\left( t \\right) < D \\right)\n",
    "        \\right)\n",
    "    }}\n",
    "    {R_+ - R_-}\n",
    "$$"
   ]
  }
 ],
 "metadata": {
  "kernelspec": {
   "display_name": "Python 3",
   "language": "python",
   "name": "python3"
  },
  "language_info": {
   "codemirror_mode": {
    "name": "ipython",
    "version": 3
   },
   "file_extension": ".py",
   "mimetype": "text/x-python",
   "name": "python",
   "nbconvert_exporter": "python",
   "pygments_lexer": "ipython3",
   "version": "3.5.1"
  },
  "widgets": {
   "state": {},
   "version": "1.1.2"
  }
 },
 "nbformat": 4,
 "nbformat_minor": 0
}
