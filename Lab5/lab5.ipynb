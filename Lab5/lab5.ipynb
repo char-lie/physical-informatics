{
 "cells": [
  {
   "cell_type": "markdown",
   "metadata": {},
   "source": [
    "# Memristor"
   ]
  },
  {
   "cell_type": "markdown",
   "metadata": {},
   "source": [
    "## Equation\n",
    "We have an equation\n",
    "$$\n",
    "\\mu_U \\cdot \\frac{R_+}{D} \\cdot U \\left( t \\right) \\cdot \\theta\\left( \\omega \\right) \\cdot \\theta\\left( D - \\omega \\right)\n",
    "= \\frac{d\\omega}{dt}\n",
    "  \\cdot \\left[ R_+ \\cdot \\frac{\\omega\\left( t \\right)}{D}\n",
    "             + R_- \\cdot \\left( 1 - \\frac{\\omega\\left( t \\right)}{D} \\right) \\right]\n",
    "$$\n",
    "Heaviside functions product can be folded to indicator\n",
    "$$\n",
    "\\frac{d\\omega}{dt}\n",
    "  \\cdot \\left[ R_+ \\cdot \\frac{\\omega\\left( t \\right)}{D}\n",
    "             + R_- \\cdot \\left( 1 - \\frac{\\omega\\left( t \\right)}{D} \\right) \\right]\n",
    "  = \\mu_U \\cdot \\frac{R_+}{D} \\cdot U \\left( t \\right) \\cdot \\mathbb{1}\\left( 0 < \\omega\\left( t \\right) < D \\right)\n",
    "$$"
   ]
  },
  {
   "cell_type": "markdown",
   "metadata": {},
   "source": [
    "This means that either\n",
    "$$\n",
    "\\dot{\\omega} = 0,\\qquad \\omega \\notin \\left( 0; D \\right)\n",
    "\\Longrightarrow\n",
    "\\begin{cases}\n",
    "\\omega\\left( t \\right) = 0,\\qquad \\omega\\left( t' \\right) \\le 0,\\qquad t' \\le t, \\\\\n",
    "\\omega\\left( t \\right) = D,\\qquad \\omega\\left( t' \\right) \\ge D,\\qquad t' \\le t\n",
    "\\end{cases}\n",
    "$$\n",
    "or\n",
    "$$\n",
    "\\omega\\left( t \\right) = - \\frac{D \\cdot R_-}{R_+ - R_-}.\n",
    "$$\n",
    "\n",
    "The second equation is possible if $D=0$, which is not possible due to equation $0 < \\omega\\left( t \\right) < D$,\n",
    "or $R_- = 0$, which is physically impossible in this problem: impedance should be greater than zero.\n",
    "\n",
    "This means that when $\\omega$ reaches $0$ or $D$, it cannot move further and we have a stable state there.\n",
    "We can solve the differential equation without indicator, keeping in mind spikes of derivative."
   ]
  },
  {
   "cell_type": "markdown",
   "metadata": {},
   "source": [
    "In order to solve this differential equation we need to integrate it\n",
    "$$\n",
    "\\int\\limits_{w_c}^{w\\left( t \\right)} \\left[ \\omega\\left( t \\right) \\cdot \\frac{R_+ - R_-}{D}\n",
    "             + R_- \\right] d\\omega\n",
    "  = \\mu_U \\cdot \\frac{R_+}{D}\n",
    "      \\cdot \\int\\limits_0^t U \\left( t \\right) dt\n",
    "$$\n",
    "Let us denote\n",
    "$$\n",
    "\\Phi\\left( t \\right)\n",
    "= \\int\\limits_0^t U \\left( t \\right) dt\n",
    "$$"
   ]
  },
  {
   "cell_type": "markdown",
   "metadata": {},
   "source": [
    "Result looks like an equation\n",
    "$$\n",
    "\\omega^2 \\cdot \\frac{R_+ - R_-}{2 \\cdot D} + \\omega \\cdot R_- - \\omega_c\n",
    "- \\mu_U \\frac{R_+}{D} \\cdot \\Phi\\left( t \\right)\n",
    "= 0, \\qquad\n",
    "\\omega_c = \\omega\\left( 0 \\right)^2 \\cdot \\frac{R_+ - R_-}{2 \\cdot D} + \\omega\\left( 0 \\right) \\cdot R_-\n",
    "$$\n",
    "\n",
    "Solutions are\n",
    "$$\n",
    "\\omega_{1, 2}\\left( t \\right) = \\frac{\n",
    "        - R_- \\pm \\sqrt{R_-^2\n",
    "        + 4 \\cdot \\frac{R_+ - R_-}{2 \\cdot D} \\cdot \\left( \\omega_c + \\mu_U \\cdot \\frac{R_+}{D} \\cdot \\Phi\\left( t \\right)\n",
    "        \\right)\n",
    "    }}\n",
    "    {\\frac{R_+ - R_-}{D}}\n",
    "$$\n",
    "Can be simplified to\n",
    "$$\n",
    "\\omega_{1, 2}\\left( t \\right) = D \\cdot \\frac{\n",
    "        - R_- \\pm \\sqrt{R_-^2\n",
    "        + 2 \\cdot \\frac{R_+ - R_-}{D} \\cdot \\left( \\omega_c + \\mu_U \\cdot \\frac{R_+}{D} \\cdot \\Phi\\left( t \\right)\n",
    "        \\right)\n",
    "    }}\n",
    "    {R_+ - R_-}\n",
    "$$"
   ]
  },
  {
   "cell_type": "markdown",
   "metadata": {},
   "source": [
    "## Electric current\n",
    "\n",
    "$$\n",
    "I\\left( t \\right)\n",
    "= \\frac{D \\cdot U\\left( t \\right)}{R_+ \\cdot w\\left( t \\right) + R_- \\cdot \\left(D - w\\left( t \\right) \\right)}\n",
    "$$"
   ]
  },
  {
   "cell_type": "markdown",
   "metadata": {},
   "source": [
    "## Constant voltage\n",
    "\n",
    "Assume $U = U_0$\n",
    "$$\n",
    "\\omega_{1, 2}\\left( t \\right) = D \\cdot \\frac{\n",
    "        - R_- \\pm \\sqrt{R_-^2\n",
    "        + 2 \\cdot \\frac{R_+ - R_-}{D} \\left( \\omega_c + \\mu_U \\cdot \\frac{R_+}{D} \\cdot U_0 \\cdot t\n",
    "        \\right)\n",
    "    }}\n",
    "    {R_+ - R_-}\n",
    "$$\n",
    "and\n",
    "$$\n",
    "\\Phi\\left( t \\right) = t \\cdot U_0\n",
    "$$"
   ]
  },
  {
   "cell_type": "markdown",
   "metadata": {},
   "source": [
    "## Sine voltage\n",
    "\n",
    "Assume $U = U_0 \\cdot \\sin{\\left( \\nu \\cdot t \\right)}$\n",
    "$$\n",
    "\\omega_{1, 2}\\left( t \\right) = D \\cdot \\frac{\n",
    "        - R_- \\pm \\sqrt{R_-^2\n",
    "        + 2 \\cdot \\frac{R_+ - R_-}{D}\n",
    "            \\cdot \\left( \\omega_c\n",
    "            + \\mu_U \\cdot \\frac{R_+}{D} \\cdot \\frac{U_0}{\\nu}\n",
    "            \\cdot \\left( 1 - \\cos{\\left(\\nu \\cdot t \\right)} \\right)\n",
    "        \\right)\n",
    "    }}\n",
    "    {R_+ - R_-}\n",
    "$$\n",
    "and\n",
    "$$\n",
    "\\Phi\\left( t \\right) = \\frac{U_0}{\\nu} \\cdot \\left( 1 - \\cos{\\left( \\nu \\cdot t \\right)} \\right)\n",
    "$$"
   ]
  },
  {
   "cell_type": "markdown",
   "metadata": {},
   "source": [
    "## Sine squared voltage\n",
    "\n",
    "Assume $U = U_0 \\cdot \\sin^2{\\left( \\nu \\cdot t \\right)}$\n",
    "$$\n",
    "\\omega_{1, 2}\\left( t \\right) = D \\cdot \\frac{\n",
    "        - R_- \\pm \\sqrt{R_-^2\n",
    "        + 2 \\cdot \\frac{R_+ - R_-}{D}\n",
    "            \\cdot \\left( \\omega_c\n",
    "            + \\mu_U \\cdot \\frac{R_+}{D} \\cdot \\frac{U_0}{4 \\cdot \\nu}\n",
    "            \\cdot \\left( 2 \\cdot \\nu \\cdot t - \\sin{\\left(2 \\cdot \\nu \\cdot t \\right)} \\right)\n",
    "        \\right)\n",
    "    }}\n",
    "    {R_+ - R_-}\n",
    "$$\n",
    "and\n",
    "$$\n",
    "\\Phi\\left( t \\right) = \\frac{U_0}{4 \\cdot \\nu} \\cdot \\left( 2 \\cdot \\nu \\cdot t - \\sin{\\left(2 \\cdot \\nu \\cdot t \\right)} \\right)\n",
    "$$"
   ]
  },
  {
   "cell_type": "markdown",
   "metadata": {},
   "source": [
    "## Electric charge to magnetic flux\n",
    "\n",
    "As long as\n",
    "$$\n",
    "\\begin{cases}\n",
    "I &= \\dot{q}, \\\\\n",
    "U &= \\dot{\\Phi}\n",
    "\\end{cases}\n",
    "$$\n",
    "We have\n",
    "$$\n",
    "\\begin{cases}\n",
    "q\\left( t \\right) &= \\int\\limits_{t_0}^t I\\left( t \\right) \\\\\n",
    "\\Phi\\left( t \\right) &= \\int\\limits_{t_0}^t U\\left( t \\right)\n",
    "\\end{cases}\n",
    "$$\n",
    "It's hard to integrate $I$ analytically, so numeric method can be used\n",
    "$$\n",
    "\\int\\limits_{t_0}^t I\\left( t \\right) \\approx \\sum\\limits_1^n I\\left( t_i \\right) \\cdot \\Delta t,\n",
    "\\qquad \\Delta t = \\frac{t - t_0}{n},\n",
    "\\qquad t_i = t_0 + \\Delta t \\cdot \\left( n - 1 \\right)\n",
    "$$"
   ]
  }
 ],
 "metadata": {
  "kernelspec": {
   "display_name": "Python 3",
   "language": "python",
   "name": "python3"
  },
  "language_info": {
   "codemirror_mode": {
    "name": "ipython",
    "version": 3
   },
   "file_extension": ".py",
   "mimetype": "text/x-python",
   "name": "python",
   "nbconvert_exporter": "python",
   "pygments_lexer": "ipython3",
   "version": "3.5.1"
  },
  "widgets": {
   "state": {},
   "version": "1.1.2"
  }
 },
 "nbformat": 4,
 "nbformat_minor": 0
}
