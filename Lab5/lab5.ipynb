{
 "cells": [
  {
   "cell_type": "markdown",
   "metadata": {},
   "source": [
    "# Memristor"
   ]
  },
  {
   "cell_type": "markdown",
   "metadata": {},
   "source": [
    "## Equation\n",
    "We have an equation\n",
    "$$\n",
    "\\mu_U \\cdot R_+ \\cdot U \\left( t \\right) \\cdot \\theta\\left( \\omega \\right) \\cdot \\theta\\left( D - \\omega \\right)\n",
    "= \\frac{d\\omega}{dt}\n",
    "  \\cdot \\left[ R_+ \\cdot \\frac{\\omega\\left( t \\right)}{D}\n",
    "             + R_- \\cdot \\left( 1 - \\frac{\\omega\\left( t \\right)}{D} \\right) \\right]\n",
    "$$\n",
    "Heaviside functions product can be folded to indicator\n",
    "$$\n",
    "\\frac{d\\omega}{dt}\n",
    "  \\cdot \\left[ R_+ \\cdot \\frac{\\omega\\left( t \\right)}{D}\n",
    "             + R_- \\cdot \\left( 1 - \\frac{\\omega\\left( t \\right)}{D} \\right) \\right]\n",
    "  = \\mu_U \\cdot R_+ \\cdot U \\left( t \\right) \\cdot \\mathbb{1}\\left( 0 \\le \\omega\\left( t \\right) \\le D \\right)\n",
    "$$\n",
    "We will denote this indicator as\n",
    "$$\n",
    "\\mathbb{1}\\left( \\omega \\right) = \\mathbb{1}\\left( 0 \\le \\omega\\left( t \\right) \\le D \\right)\n",
    "$$"
   ]
  },
  {
   "cell_type": "markdown",
   "metadata": {},
   "source": [
    "In order to solve this differential equation we need to integrate it\n",
    "$$\n",
    "\\int\\limits_{w_0}^{w\\left( t \\right)} \\left[ \\omega\\left( t \\right) \\cdot \\frac{R_+ - R_-}{D}\n",
    "             + R_- \\right] d\\omega\n",
    "  = \\mu_U \\cdot R_+\n",
    "      \\cdot \\int\\limits_0^t U \\left( t \\right) \\cdot \\mathbb{1}\\left( \\omega \\right) dt\n",
    "$$\n",
    "Let us denote\n",
    "$$\n",
    "S\\left( t \\right)\n",
    "= \\int\\limits_0^t U \\left( t \\right) \\cdot \\mathbb{1}\\left( \\omega \\right) dt\n",
    "$$"
   ]
  },
  {
   "cell_type": "markdown",
   "metadata": {},
   "source": [
    "Result looks like an equation\n",
    "$$\n",
    "\\omega^2 \\cdot \\frac{R_+ - R_-}{2 \\cdot D} + \\omega \\cdot R_- - \\omega_0\n",
    "- \\mu_U \\cdot R_+ \\cdot S\\left( t \\right)\n",
    "= 0, \\qquad\n",
    "\\omega_0 = \\omega\\left( 0 \\right)^2 \\cdot \\frac{R_+ - R_-}{2 \\cdot D} + \\omega\\left( 0 \\right) \\cdot R_-\n",
    "$$\n",
    "\n",
    "Solutions are\n",
    "$$\n",
    "\\omega_{1, 2}\\left( t \\right) = \\frac{\n",
    "        - R_- \\pm \\sqrt{R_-^2\n",
    "        + 4 \\cdot \\left( \\omega_0 + \\mu_U \\cdot R_+ \\cdot S\\left( t \\right)\n",
    "        \\right)\n",
    "    }}\n",
    "    {\\frac{R_+ - R_-}{D}}\n",
    "$$\n",
    "Can be simplified to\n",
    "$$\n",
    "\\omega_{1, 2}\\left( t \\right) = D \\cdot \\frac{\n",
    "        - R_- \\pm \\sqrt{R_-^2\n",
    "        + 4 \\cdot \\left( \\omega_0 + \\mu_U \\cdot R_+ \\cdot S\\left( t \\right)\n",
    "        \\right)\n",
    "    }}\n",
    "    {R_+ - R_-}\n",
    "$$"
   ]
  },
  {
   "cell_type": "markdown",
   "metadata": {},
   "source": [
    "## Constant voltage\n",
    "\n",
    "Assume $U = U_0$\n",
    "$$\n",
    "\\omega_{1, 2}\\left( t \\right) = D \\cdot \\frac{\n",
    "        - R_- \\pm \\sqrt{R_-^2\n",
    "        + 4 \\left( \\omega_0 + \\mu_U \\cdot R_+ \\cdot U_0 \\cdot\n",
    "            \\int\\limits_0^t \\mathbb{1}\\left( \\omega \\right) dt\n",
    "        \\right)\n",
    "    }}\n",
    "    {R_+ - R_-}\n",
    "$$"
   ]
  },
  {
   "cell_type": "markdown",
   "metadata": {},
   "source": [
    "## Sine voltage\n",
    "\n",
    "Assume $U = U_0 \\cdot \\sin{\\left( \\omega\\left( 0 \\right) \\cdot t \\right)}$\n",
    "$$\n",
    "\\omega_{1, 2}\\left( t \\right) = D \\cdot \\frac{\n",
    "        - R_- \\pm \\sqrt{R_-^2\n",
    "        + 4 \\cdot \\left( \\omega_0 + \\mu_U \\cdot R_+\n",
    "            \\cdot U_0\n",
    "            \\cdot \\int\\limits_0^t \\sin{\\left(\\omega\\left( 0 \\right) \\cdot t \\right)}\n",
    "                \\cdot \\mathbb{1}\\left( \\omega \\right) dt\n",
    "        \\right)\n",
    "    }}\n",
    "    {R_+ - R_-}\n",
    "$$"
   ]
  }
 ],
 "metadata": {
  "kernelspec": {
   "display_name": "Python 3",
   "language": "python",
   "name": "python3"
  },
  "language_info": {
   "codemirror_mode": {
    "name": "ipython",
    "version": 3
   },
   "file_extension": ".py",
   "mimetype": "text/x-python",
   "name": "python",
   "nbconvert_exporter": "python",
   "pygments_lexer": "ipython3",
   "version": "3.5.1"
  },
  "widgets": {
   "state": {},
   "version": "1.1.2"
  }
 },
 "nbformat": 4,
 "nbformat_minor": 0
}
