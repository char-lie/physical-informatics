{
 "cells": [
  {
   "cell_type": "markdown",
   "metadata": {},
   "source": [
    "# Memristor"
   ]
  },
  {
   "cell_type": "markdown",
   "metadata": {},
   "source": [
    "## Equation\n",
    "We have an equation\n",
    "$$\n",
    "\\mu_U \\cdot \\frac{R_+}{D} \\cdot U \\left( t \\right) \\cdot \\theta\\left( \\omega \\right) \\cdot \\theta\\left( D - \\omega \\right)\n",
    "= \\frac{d\\omega}{dt}\n",
    "  \\cdot \\left[ R_+ \\cdot \\frac{\\omega\\left( t \\right)}{D}\n",
    "             + R_- \\cdot \\left( 1 - \\frac{\\omega\\left( t \\right)}{D} \\right) \\right]\n",
    "$$\n",
    "Heaviside functions product can be folded to indicator\n",
    "$$\n",
    "\\frac{d\\omega}{dt}\n",
    "  \\cdot \\left[ R_+ \\cdot \\frac{\\omega\\left( t \\right)}{D}\n",
    "             + R_- \\cdot \\left( 1 - \\frac{\\omega\\left( t \\right)}{D} \\right) \\right]\n",
    "  = \\mu_U \\cdot \\frac{R_+}{D} \\cdot U \\left( t \\right) \\cdot \\mathbb{1}\\left( 0 < \\omega\\left( t \\right) < D \\right)\n",
    "$$"
   ]
  },
  {
   "cell_type": "markdown",
   "metadata": {},
   "source": [
    "This means that either\n",
    "$$\n",
    "\\dot{\\omega} = 0,\\qquad \\omega \\notin \\left( 0; D \\right)\n",
    "\\Longrightarrow\n",
    "\\begin{cases}\n",
    "\\omega\\left( t \\right) = 0,\\qquad \\omega\\left( t' \\right) \\le 0,\\qquad t' \\le t, \\\\\n",
    "\\omega\\left( t \\right) = D,\\qquad \\omega\\left( t' \\right) \\ge D,\\qquad t' \\le t\n",
    "\\end{cases}\n",
    "$$\n",
    "or\n",
    "$$\n",
    "\\omega\\left( t \\right) = - \\frac{D \\cdot R_-}{R_+ - R_-}.\n",
    "$$\n",
    "\n",
    "The second equation is possible if $D=0$, which is not possible due to equation $0 < \\omega\\left( t \\right) < D$,\n",
    "or $R_- = 0$, which is physically impossible in this problem: impedance should be greater than zero.\n",
    "\n",
    "This means that when $\\omega$ reaches $0$ or $D$, it cannot move further and we have a stable state there.\n",
    "We can solve the differential equation without indicator, keeping in mind spikes of derivative."
   ]
  },
  {
   "cell_type": "markdown",
   "metadata": {},
   "source": [
    "In order to solve this differential equation we need to integrate it\n",
    "$$\n",
    "\\int\\limits_{w_c}^{w\\left( t \\right)} \\left[ \\omega\\left( t \\right) \\cdot \\frac{R_+ - R_-}{D}\n",
    "             + R_- \\right] d\\omega\n",
    "  = \\mu_U \\cdot \\frac{R_+}{D}\n",
    "      \\cdot \\int\\limits_0^t U \\left( t \\right) dt\n",
    "$$\n",
    "Let us denote\n",
    "$$\n",
    "\\Phi\\left( t \\right)\n",
    "= \\int\\limits_0^t U \\left( t \\right) dt\n",
    "$$"
   ]
  },
  {
   "cell_type": "markdown",
   "metadata": {},
   "source": [
    "Result looks like an equation\n",
    "$$\n",
    "\\omega^2 \\cdot \\frac{R_+ - R_-}{2 \\cdot D} + \\omega \\cdot R_- - \\omega_c\n",
    "- \\mu_U \\frac{R_+}{D} \\cdot \\Phi\\left( t \\right)\n",
    "= 0, \\qquad\n",
    "\\omega_c = \\omega\\left( 0 \\right)^2 \\cdot \\frac{R_+ - R_-}{2 \\cdot D} + \\omega\\left( 0 \\right) \\cdot R_-\n",
    "$$\n",
    "\n",
    "Solutions are\n",
    "$$\n",
    "\\omega_{1, 2}\\left( t \\right) = \\frac{\n",
    "        - R_- \\pm \\sqrt{R_-^2\n",
    "        + 4 \\cdot \\frac{R_+ - R_-}{2 \\cdot D} \\cdot \\left( \\omega_c + \\mu_U \\cdot \\frac{R_+}{D} \\cdot \\Phi\\left( t \\right)\n",
    "        \\right)\n",
    "    }}\n",
    "    {\\frac{R_+ - R_-}{D}}\n",
    "$$\n",
    "Can be simplified to\n",
    "$$\n",
    "\\omega_{1, 2}\\left( t \\right) = D \\cdot \\frac{\n",
    "        - R_- \\pm \\sqrt{R_-^2\n",
    "        + 2 \\cdot \\frac{R_+ - R_-}{D} \\cdot \\left( \\omega_c + \\mu_U \\cdot \\frac{R_+}{D} \\cdot \\Phi\\left( t \\right)\n",
    "        \\right)\n",
    "    }}\n",
    "    {R_+ - R_-}\n",
    "$$"
   ]
  },
  {
   "cell_type": "markdown",
   "metadata": {},
   "source": [
    "## Electric current\n",
    "\n",
    "$$\n",
    "I\\left( t \\right)\n",
    "= \\frac{D \\cdot U\\left( t \\right)}{R_+ \\cdot w\\left( t \\right) + R_- \\cdot \\left(D - w\\left( t \\right) \\right)}\n",
    "$$"
   ]
  },
  {
   "cell_type": "markdown",
   "metadata": {},
   "source": [
    "## Constant voltage\n",
    "\n",
    "Assume $U = U_0$\n",
    "$$\n",
    "\\omega_{1, 2}\\left( t \\right) = D \\cdot \\frac{\n",
    "        - R_- \\pm \\sqrt{R_-^2\n",
    "        + 2 \\cdot \\frac{R_+ - R_-}{D} \\left( \\omega_c + \\mu_U \\cdot \\frac{R_+}{D} \\cdot U_0 \\cdot t\n",
    "        \\right)\n",
    "    }}\n",
    "    {R_+ - R_-}\n",
    "$$"
   ]
  },
  {
   "cell_type": "markdown",
   "metadata": {},
   "source": [
    "## Sine voltage\n",
    "\n",
    "Assume $U = U_0 \\cdot \\sin{\\left( \\nu \\cdot t \\right)}$\n",
    "$$\n",
    "\\omega_{1, 2}\\left( t \\right) = D \\cdot \\frac{\n",
    "        - R_- \\pm \\sqrt{R_-^2\n",
    "        + 2 \\cdot \\frac{R_+ - R_-}{D}\n",
    "            \\cdot \\left( \\omega_c\n",
    "            + \\mu_U \\cdot \\frac{R_+}{D} \\cdot \\frac{U_0}{\\nu}\n",
    "            \\cdot \\left( 1 - \\cos{\\left(\\nu \\cdot t \\right)} \\right)\n",
    "        \\right)\n",
    "    }}\n",
    "    {R_+ - R_-}\n",
    "$$"
   ]
  },
  {
   "cell_type": "markdown",
   "metadata": {},
   "source": [
    "## Sine squared voltage\n",
    "\n",
    "Assume $U = U_0 \\cdot \\sin^2{\\left( \\nu \\cdot t \\right)}$\n",
    "$$\n",
    "\\omega_{1, 2}\\left( t \\right) = D \\cdot \\frac{\n",
    "        - R_- \\pm \\sqrt{R_-^2\n",
    "        + 2 \\cdot \\frac{R_+ - R_-}{D}\n",
    "            \\cdot \\left( \\omega_c\n",
    "            + \\mu_U \\cdot \\frac{R_+}{D} \\cdot \\frac{U_0}{4 \\cdot \\nu}\n",
    "            \\cdot \\left( 2 \\cdot \\nu \\cdot x - \\sin{\\left(2 \\cdot \\nu \\cdot t \\right)} \\right)\n",
    "        \\right)\n",
    "    }}\n",
    "    {R_+ - R_-}\n",
    "$$"
   ]
  },
  {
   "cell_type": "markdown",
   "metadata": {},
   "source": [
    "## Electric charge to magnetic flux\n",
    "\n",
    "As long as\n",
    "$$\n",
    "\\begin{cases}\n",
    "I &= \\dot{q}, \\\\\n",
    "U &= \\dot{\\Phi}\n",
    "\\end{cases}\n",
    "$$\n",
    "We have\n",
    "$$\n",
    "\\begin{cases}\n",
    "q\\left( t \\right) &= \\int\\limits_{t_0}^t I\\left( t \\right) \\\\\n",
    "\\Phi\\left( t \\right) &= \\int\\limits_{t_0}^t U\\left( t \\right)\n",
    "\\end{cases}\n",
    "$$\n",
    "It's hard to integrate $I$ analytically, so numeric method can be used\n",
    "$$\n",
    "\\int\\limits_{t_0}^t I\\left( t \\right) \\approx \\sum\\limits_1^n I\\left( t_i \\right) \\cdot \\Delta t,\n",
    "\\qquad \\Delta t = \\frac{t - t_0}{n},\n",
    "\\qquad t_i = t_0 + \\Delta t \\cdot \\left( n - 1 \\right)\n",
    "$$"
   ]
  },
  {
   "cell_type": "code",
   "execution_count": 1,
   "metadata": {
    "collapsed": false
   },
   "outputs": [],
   "source": [
    "%matplotlib inline\n",
    "import numpy as np\n",
    "import matplotlib.pyplot as plt\n",
    "import pylab\n",
    "pylab.rcParams['figure.figsize'] = (15.0, 15.0)"
   ]
  },
  {
   "cell_type": "code",
   "execution_count": 2,
   "metadata": {
    "collapsed": true
   },
   "outputs": [],
   "source": [
    "from matplotlib import rc\n",
    "rc('font', size=18)"
   ]
  },
  {
   "cell_type": "code",
   "execution_count": 3,
   "metadata": {
    "collapsed": true
   },
   "outputs": [],
   "source": [
    "from Memristor import Memristor"
   ]
  },
  {
   "cell_type": "code",
   "execution_count": 4,
   "metadata": {
    "collapsed": false
   },
   "outputs": [],
   "source": [
    "SM2_TO_M2 = ((10**(-2))**2)\n",
    "NM_TO_M = 10**(-9)"
   ]
  },
  {
   "cell_type": "code",
   "execution_count": 5,
   "metadata": {
    "collapsed": false
   },
   "outputs": [],
   "source": [
    "D = 10 * NM_TO_M\n",
    "mu = (10**(-10)) * SM2_TO_M2\n",
    "nu = 100\n",
    "w0 = D / 10\n",
    "R_ON = 1\n",
    "R_OFF = R_ON * 160\n",
    "U0 = 1"
   ]
  },
  {
   "cell_type": "code",
   "execution_count": 6,
   "metadata": {
    "collapsed": true
   },
   "outputs": [],
   "source": [
    "m = Memristor(D, mu, nu, w0, 160, 1, U0, lambda t: U(t, U0, nu), lambda t: Phi(t, U0, nu))"
   ]
  },
  {
   "cell_type": "code",
   "execution_count": 7,
   "metadata": {
    "collapsed": false,
    "scrolled": false
   },
   "outputs": [
    {
     "ename": "NameError",
     "evalue": "name 'Phi' is not defined",
     "output_type": "error",
     "traceback": [
      "\u001b[0;31m---------------------------------------------------------------------------\u001b[0m",
      "\u001b[0;31mNameError\u001b[0m                                 Traceback (most recent call last)",
      "\u001b[0;32m<ipython-input-7-672bb1399042>\u001b[0m in \u001b[0;36m<module>\u001b[0;34m()\u001b[0m\n\u001b[0;32m----> 1\u001b[0;31m \u001b[0mm\u001b[0m\u001b[0;34m.\u001b[0m\u001b[0mtask1\u001b[0m\u001b[0;34m(\u001b[0m\u001b[0mplt\u001b[0m\u001b[0;34m,\u001b[0m \u001b[0;36m1000\u001b[0m\u001b[0;34m,\u001b[0m \u001b[0;36m5\u001b[0m\u001b[0;34m)\u001b[0m\u001b[0;34m\u001b[0m\u001b[0m\n\u001b[0m",
      "\u001b[0;32m/home/jovyan/work/Lab5/Memristor.py\u001b[0m in \u001b[0;36mtask1\u001b[0;34m(self, plt, N, periods)\u001b[0m\n\u001b[1;32m     64\u001b[0m \u001b[0;34m\u001b[0m\u001b[0m\n\u001b[1;32m     65\u001b[0m         \u001b[0maxarr\u001b[0m\u001b[0;34m[\u001b[0m\u001b[0;36m0\u001b[0m\u001b[0;34m]\u001b[0m\u001b[0;34m.\u001b[0m\u001b[0mset_title\u001b[0m\u001b[0;34m(\u001b[0m\u001b[0;34mr'$\\frac{\\omega\\left( t \\right)}{D}$'\u001b[0m\u001b[0;34m)\u001b[0m\u001b[0;34m\u001b[0m\u001b[0m\n\u001b[0;32m---> 66\u001b[0;31m         \u001b[0maxarr\u001b[0m\u001b[0;34m[\u001b[0m\u001b[0;36m0\u001b[0m\u001b[0;34m]\u001b[0m\u001b[0;34m.\u001b[0m\u001b[0mplot\u001b[0m\u001b[0;34m(\u001b[0m\u001b[0mTIME\u001b[0m\u001b[0;34m,\u001b[0m \u001b[0mself\u001b[0m\u001b[0;34m.\u001b[0m\u001b[0mw\u001b[0m\u001b[0;34m(\u001b[0m\u001b[0mTIME\u001b[0m\u001b[0;34m)\u001b[0m \u001b[0;34m/\u001b[0m \u001b[0mself\u001b[0m\u001b[0;34m.\u001b[0m\u001b[0m__D\u001b[0m\u001b[0;34m)\u001b[0m\u001b[0;34m\u001b[0m\u001b[0m\n\u001b[0m\u001b[1;32m     67\u001b[0m         \u001b[0maxarr\u001b[0m\u001b[0;34m[\u001b[0m\u001b[0;36m0\u001b[0m\u001b[0;34m]\u001b[0m\u001b[0;34m.\u001b[0m\u001b[0maxhline\u001b[0m\u001b[0;34m(\u001b[0m\u001b[0;36m1\u001b[0m\u001b[0;34m,\u001b[0m \u001b[0mlinewidth\u001b[0m\u001b[0;34m=\u001b[0m\u001b[0;36m2\u001b[0m\u001b[0;34m,\u001b[0m \u001b[0mcolor\u001b[0m\u001b[0;34m=\u001b[0m\u001b[0;34m'r'\u001b[0m\u001b[0;34m,\u001b[0m \u001b[0mlinestyle\u001b[0m\u001b[0;34m=\u001b[0m\u001b[0;34m':'\u001b[0m\u001b[0;34m)\u001b[0m\u001b[0;34m\u001b[0m\u001b[0m\n\u001b[1;32m     68\u001b[0m         \u001b[0maxarr\u001b[0m\u001b[0;34m[\u001b[0m\u001b[0;36m0\u001b[0m\u001b[0;34m]\u001b[0m\u001b[0;34m.\u001b[0m\u001b[0mset_ylabel\u001b[0m\u001b[0;34m(\u001b[0m\u001b[0;34mr'$\\frac{\\omega}{D}$'\u001b[0m\u001b[0;34m)\u001b[0m\u001b[0;34m\u001b[0m\u001b[0m\n",
      "\u001b[0;32m/home/jovyan/work/Lab5/Memristor.py\u001b[0m in \u001b[0;36mw\u001b[0;34m(self, t)\u001b[0m\n\u001b[1;32m     25\u001b[0m             + 2 * ((self.__R_ON - self.__R_OFF) / self.__D) * (\n\u001b[1;32m     26\u001b[0m                 \u001b[0mself\u001b[0m\u001b[0;34m.\u001b[0m\u001b[0m__w_initial\u001b[0m\u001b[0;34m\u001b[0m\u001b[0m\n\u001b[0;32m---> 27\u001b[0;31m                 + self.__mu * (self.__R_ON / self.__D) * self.Phi(t))\n\u001b[0m\u001b[1;32m     28\u001b[0m         )\n\u001b[1;32m     29\u001b[0m         \u001b[0mup\u001b[0m \u001b[0;34m=\u001b[0m \u001b[0mup_sqrt\u001b[0m\u001b[0;34m**\u001b[0m\u001b[0;36m.5\u001b[0m \u001b[0;34m-\u001b[0m \u001b[0mself\u001b[0m\u001b[0;34m.\u001b[0m\u001b[0m__R_OFF\u001b[0m\u001b[0;34m\u001b[0m\u001b[0m\n",
      "\u001b[0;32m<ipython-input-6-04f3e8e9b53f>\u001b[0m in \u001b[0;36m<lambda>\u001b[0;34m(t)\u001b[0m\n\u001b[0;32m----> 1\u001b[0;31m \u001b[0mm\u001b[0m \u001b[0;34m=\u001b[0m \u001b[0mMemristor\u001b[0m\u001b[0;34m(\u001b[0m\u001b[0mD\u001b[0m\u001b[0;34m,\u001b[0m \u001b[0mmu\u001b[0m\u001b[0;34m,\u001b[0m \u001b[0mnu\u001b[0m\u001b[0;34m,\u001b[0m \u001b[0mw0\u001b[0m\u001b[0;34m,\u001b[0m \u001b[0;36m160\u001b[0m\u001b[0;34m,\u001b[0m \u001b[0;36m1\u001b[0m\u001b[0;34m,\u001b[0m \u001b[0mU0\u001b[0m\u001b[0;34m,\u001b[0m \u001b[0;32mlambda\u001b[0m \u001b[0mt\u001b[0m\u001b[0;34m:\u001b[0m \u001b[0mU\u001b[0m\u001b[0;34m(\u001b[0m\u001b[0mt\u001b[0m\u001b[0;34m,\u001b[0m \u001b[0mU0\u001b[0m\u001b[0;34m,\u001b[0m \u001b[0mnu\u001b[0m\u001b[0;34m)\u001b[0m\u001b[0;34m,\u001b[0m \u001b[0;32mlambda\u001b[0m \u001b[0mt\u001b[0m\u001b[0;34m:\u001b[0m \u001b[0mPhi\u001b[0m\u001b[0;34m(\u001b[0m\u001b[0mt\u001b[0m\u001b[0;34m,\u001b[0m \u001b[0mU0\u001b[0m\u001b[0;34m,\u001b[0m \u001b[0mnu\u001b[0m\u001b[0;34m)\u001b[0m\u001b[0;34m)\u001b[0m\u001b[0;34m\u001b[0m\u001b[0m\n\u001b[0m",
      "\u001b[0;31mNameError\u001b[0m: name 'Phi' is not defined"
     ]
    },
    {
     "data": {
      "image/png": "[encoded data removed]",
      "text/plain": [
       "<matplotlib.figure.Figure at 0x7fba21e8b278>"
      ]
     },
     "metadata": {},
     "output_type": "display_data"
    }
   ],
   "source": [
    "m.task1(plt, 1000, 5)"
   ]
  },
  {
   "cell_type": "code",
   "execution_count": null,
   "metadata": {
    "collapsed": false
   },
   "outputs": [],
   "source": [
    "m.task2(plt, 1000, 5)"
   ]
  },
  {
   "cell_type": "code",
   "execution_count": null,
   "metadata": {
    "collapsed": false
   },
   "outputs": [],
   "source": [
    "m.task2(plt, 1000, 5)"
   ]
  }
 ],
 "metadata": {
  "kernelspec": {
   "display_name": "Python 3",
   "language": "python",
   "name": "python3"
  },
  "language_info": {
   "codemirror_mode": {
    "name": "ipython",
    "version": 3
   },
   "file_extension": ".py",
   "mimetype": "text/x-python",
   "name": "python",
   "nbconvert_exporter": "python",
   "pygments_lexer": "ipython3",
   "version": "3.5.2"
  }
 },
 "nbformat": 4,
 "nbformat_minor": 0
}
