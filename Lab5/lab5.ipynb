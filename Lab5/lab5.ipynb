{
 "cells": [
  {
   "cell_type": "markdown",
   "metadata": {},
   "source": [
    "# Memristor"
   ]
  },
  {
   "cell_type": "markdown",
   "metadata": {},
   "source": [
    "## Equation\n",
    "We have an equation\n",
    "$$\n",
    "\\mu_U \\cdot \\frac{R_+}{D} \\cdot U \\left( t \\right) \\cdot \\theta\\left( \\omega \\right) \\cdot \\theta\\left( D - \\omega \\right)\n",
    "= \\frac{d\\omega}{dt}\n",
    "  \\cdot \\left[ R_+ \\cdot \\frac{\\omega\\left( t \\right)}{D}\n",
    "             + R_- \\cdot \\left( 1 - \\frac{\\omega\\left( t \\right)}{D} \\right) \\right]\n",
    "$$\n",
    "Heaviside functions product can be folded to indicator\n",
    "$$\n",
    "\\frac{d\\omega}{dt}\n",
    "  \\cdot \\left[ R_+ \\cdot \\frac{\\omega\\left( t \\right)}{D}\n",
    "             + R_- \\cdot \\left( 1 - \\frac{\\omega\\left( t \\right)}{D} \\right) \\right]\n",
    "  = \\mu_U \\cdot \\frac{R_+}{D} \\cdot U \\left( t \\right) \\cdot \\mathbb{1}\\left( 0 < \\omega\\left( t \\right) < D \\right)\n",
    "$$"
   ]
  },
  {
   "cell_type": "markdown",
   "metadata": {},
   "source": [
    "This means that either\n",
    "$$\n",
    "\\dot{\\omega} = 0,\\qquad \\omega \\notin \\left( 0; D \\right)\n",
    "\\Longrightarrow\n",
    "\\begin{cases}\n",
    "\\omega\\left( t \\right) = 0,\\qquad \\omega\\left( t' \\right) \\le 0,\\qquad t' \\le t, \\\\\n",
    "\\omega\\left( t \\right) = D,\\qquad \\omega\\left( t' \\right) \\ge D,\\qquad t' \\le t\n",
    "\\end{cases}\n",
    "$$\n",
    "or\n",
    "$$\n",
    "\\omega\\left( t \\right) = - \\frac{D \\cdot R_-}{R_+ - R_-}.\n",
    "$$\n",
    "\n",
    "The second equation is possible if $D=0$, which is not possible due to equation $0 < \\omega\\left( t \\right) < D$,\n",
    "or $R_- = 0$, which is physically impossible in this problem: impedance should be greater than zero.\n",
    "\n",
    "This means that when $\\omega$ reaches $0$ or $D$, it cannot move further and we have a stable state there.\n",
    "We can solve the differential equation without indicator, keeping in mind spikes of derivative."
   ]
  },
  {
   "cell_type": "markdown",
   "metadata": {},
   "source": [
    "In order to solve this differential equation we need to integrate it\n",
    "$$\n",
    "\\int\\limits_{w_0}^{w\\left( t \\right)} \\left[ \\omega\\left( t \\right) \\cdot \\frac{R_+ - R_-}{D}\n",
    "             + R_- \\right] d\\omega\n",
    "  = \\mu_U \\cdot \\frac{R_+}{D}\n",
    "      \\cdot \\int\\limits_0^t U \\left( t \\right) dt\n",
    "$$\n",
    "Let us denote\n",
    "$$\n",
    "S\\left( t \\right)\n",
    "= \\int\\limits_0^t U \\left( t \\right) dt\n",
    "$$"
   ]
  },
  {
   "cell_type": "markdown",
   "metadata": {},
   "source": [
    "Result looks like an equation\n",
    "$$\n",
    "\\omega^2 \\cdot \\frac{R_+ - R_-}{2 \\cdot D} + \\omega \\cdot R_- - \\omega_0\n",
    "- \\mu_U \\cdot R_+ \\cdot S\\left( t \\right)\n",
    "= 0, \\qquad\n",
    "\\omega_0 = \\omega\\left( 0 \\right)^2 \\cdot \\frac{R_+ - R_-}{2 \\cdot D} + \\omega\\left( 0 \\right) \\cdot R_-\n",
    "$$\n",
    "\n",
    "Solutions are\n",
    "$$\n",
    "\\omega_{1, 2}\\left( t \\right) = \\frac{\n",
    "        - R_- \\pm \\sqrt{R_-^2\n",
    "        + 4 \\cdot \\left( \\omega_0 + \\mu_U \\cdot \\frac{R_+}{D} \\cdot S\\left( t \\right)\n",
    "        \\right)\n",
    "    }}\n",
    "    {\\frac{R_+ - R_-}{D}}\n",
    "$$\n",
    "Can be simplified to\n",
    "$$\n",
    "\\omega_{1, 2}\\left( t \\right) = D \\cdot \\frac{\n",
    "        - R_- \\pm \\sqrt{R_-^2\n",
    "        + 4 \\cdot \\left( \\omega_0 + \\mu_U \\cdot \\frac{R_+}{D} \\cdot S\\left( t \\right)\n",
    "        \\right)\n",
    "    }}\n",
    "    {R_+ - R_-}\n",
    "$$"
   ]
  },
  {
   "cell_type": "markdown",
   "metadata": {},
   "source": [
    "## Constant voltage\n",
    "\n",
    "Assume $U = U_0$\n",
    "$$\n",
    "\\omega_{1, 2}\\left( t \\right) = D \\cdot \\frac{\n",
    "        - R_- \\pm \\sqrt{R_-^2\n",
    "        + 4 \\left( \\omega_0 + \\mu_U \\cdot \\frac{R_+}{D} \\cdot U_0 \\cdot t\n",
    "        \\right)\n",
    "    }}\n",
    "    {R_+ - R_-}\n",
    "$$"
   ]
  },
  {
   "cell_type": "markdown",
   "metadata": {},
   "source": [
    "## Sine voltage\n",
    "\n",
    "Assume $U = U_0 \\cdot \\sin{\\left( \\omega\\left( 0 \\right) \\cdot t \\right)}$\n",
    "$$\n",
    "\\omega_{1, 2}\\left( t \\right) = D \\cdot \\frac{\n",
    "        - R_- \\pm \\sqrt{R_-^2\n",
    "        + \\frac{4}{\\omega\\left( 0 \\right)} \\cdot \\left( \\omega_0 \\cdot \\omega\\left( 0 \\right)\n",
    "            - \\mu_U \\cdot \\frac{R_+}{D} \\cdot U_0\n",
    "            \\cdot \\left( \\cos{\\left(\\omega\\left( 0 \\right) \\cdot t \\right)} - 1 \\right)\n",
    "        \\right)\n",
    "    }}\n",
    "    {R_+ - R_-}\n",
    "$$"
   ]
  },
  {
   "cell_type": "code",
   "execution_count": 1,
   "metadata": {
    "collapsed": false
   },
   "outputs": [
    {
     "name": "stderr",
     "output_type": "stream",
     "text": [
      "/opt/conda/lib/python3.5/site-packages/matplotlib/font_manager.py:273: UserWarning: Matplotlib is building the font cache using fc-list. This may take a moment.\n",
      "  warnings.warn('Matplotlib is building the font cache using fc-list. This may take a moment.')\n",
      "/opt/conda/lib/python3.5/site-packages/matplotlib/font_manager.py:273: UserWarning: Matplotlib is building the font cache using fc-list. This may take a moment.\n",
      "  warnings.warn('Matplotlib is building the font cache using fc-list. This may take a moment.')\n"
     ]
    }
   ],
   "source": [
    "%matplotlib inline\n",
    "import numpy as np\n",
    "import matplotlib.pyplot as plt\n",
    "import pylab\n",
    "pylab.rcParams['figure.figsize'] = (15.0, 15.0)"
   ]
  },
  {
   "cell_type": "code",
   "execution_count": 2,
   "metadata": {
    "collapsed": true
   },
   "outputs": [],
   "source": [
    "T = 1000\n",
    "dt = 1E-2\n",
    "N = int(T/dt)\n",
    "TIME = np.linspace(0, T, N)"
   ]
  },
  {
   "cell_type": "code",
   "execution_count": 3,
   "metadata": {
    "collapsed": false
   },
   "outputs": [],
   "source": [
    "SM2_TO_M2 = ((10**(-2))**2)\n",
    "NM_TO_M = 10**(-9)"
   ]
  },
  {
   "cell_type": "code",
   "execution_count": 4,
   "metadata": {
    "collapsed": false
   },
   "outputs": [],
   "source": [
    "D = 10 * NM_TO_M\n",
    "mu = (10**(-10)) * SM2_TO_M2\n",
    "nu = 100\n",
    "w0 = nu\n",
    "R_ON = 1\n",
    "R_OFF = R_ON * 160\n",
    "U0 = 1"
   ]
  },
  {
   "cell_type": "code",
   "execution_count": 5,
   "metadata": {
    "collapsed": false
   },
   "outputs": [],
   "source": [
    "def get_w_initial(w0, R_ON, R_OFF, D):\n",
    "    return (w0**2) * (R_ON - R_OFF) / (2 * D) + w0 * R_OFF\n",
    "\n",
    "def _U_sqrt_left(t, w0, R_ON, R_OFF, D):\n",
    "    return w0 * get_w_initial(w0, R_ON, R_OFF, D)\n",
    "\n",
    "def _U_sqrt_right_sin(t, w0, R_ON, R_OFF, D, mu, U0):\n",
    "    return mu * (R_ON / D) * U0 * (np.cos(w0 * t) - 1)\n",
    "\n",
    "def _U_up(t, w0, R_ON, R_OFF, D, mu, U0, _U_sqrt_right):\n",
    "    return - R_OFF + (\n",
    "        R_OFF**2 + (4 / w0) * (\n",
    "            _U_sqrt_left(t, w0, R_ON, R_OFF, D) - _U_sqrt_right(t, w0, R_ON, R_OFF, D, mu, U0)))**.5\n",
    "\n",
    "def U_sin(t, w0, R_OFF, R_ON, D, mu, U0):\n",
    "    return D * (_U_up(t, w0, R_ON, R_OFF, D, mu, U0, _U_sqrt_right_sin)) / (R_ON - R_OFF)"
   ]
  },
  {
   "cell_type": "code",
   "execution_count": 6,
   "metadata": {
    "collapsed": false
   },
   "outputs": [
    {
     "data": {
      "image/png": "[encoded data removed]",
      "text/plain": [
       "<matplotlib.figure.Figure at 0x7f5670a3a588>"
      ]
     },
     "metadata": {},
     "output_type": "display_data"
    }
   ],
   "source": [
    "plt.plot(TIME, [U_sin(t, w0, R_ON, R_OFF, D, mu, U0) for t in TIME])\n",
    "plt.show()"
   ]
  }
 ],
 "metadata": {
  "kernelspec": {
   "display_name": "Python 3",
   "language": "python",
   "name": "python3"
  },
  "language_info": {
   "codemirror_mode": {
    "name": "ipython",
    "version": 3
   },
   "file_extension": ".py",
   "mimetype": "text/x-python",
   "name": "python",
   "nbconvert_exporter": "python",
   "pygments_lexer": "ipython3",
   "version": "3.5.1"
  },
  "widgets": {
   "state": {},
   "version": "1.1.2"
  }
 },
 "nbformat": 4,
 "nbformat_minor": 0
}
