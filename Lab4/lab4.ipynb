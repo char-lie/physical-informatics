{
 "cells": [
  {
   "cell_type": "code",
   "execution_count": 1,
   "metadata": {
    "collapsed": true
   },
   "outputs": [],
   "source": [
    "k = .04, 5, 140\n",
    "u0 = -20\n",
    "v0 = -70\n",
    "vthr = 30\n",
    "a, b, c, d = .02, -.1, -55, 6"
   ]
  },
  {
   "cell_type": "markdown",
   "metadata": {},
   "source": [
    "$$\n",
    "f\\left( v \\right) = k_1 \\cdot v^2 + k_2 \\cdot v + k_3\n",
    "$$"
   ]
  },
  {
   "cell_type": "code",
   "execution_count": 2,
   "metadata": {
    "collapsed": true
   },
   "outputs": [],
   "source": [
    "def f(v):\n",
    "    return k[0] * (v**2) + k[1] * v + k[2]"
   ]
  },
  {
   "cell_type": "markdown",
   "metadata": {},
   "source": [
    "$$\n",
    "\\dot{v} = f\\left( v \\right) - u + I\n",
    "$$"
   ]
  },
  {
   "cell_type": "code",
   "execution_count": 3,
   "metadata": {
    "collapsed": true
   },
   "outputs": [],
   "source": [
    "def Vt(v, u, I):\n",
    "    return f(v) - u + I"
   ]
  },
  {
   "cell_type": "markdown",
   "metadata": {},
   "source": [
    "$$\n",
    "\\dot{u} = a \\cdot \\left( b \\cdot v - u \\right)\n",
    "$$"
   ]
  },
  {
   "cell_type": "code",
   "execution_count": 4,
   "metadata": {
    "collapsed": true
   },
   "outputs": [],
   "source": [
    "def Ut(v, u):\n",
    "    return a * (b * v - u)"
   ]
  },
  {
   "cell_type": "markdown",
   "metadata": {},
   "source": [
    "$$\n",
    "v \\approx v_{thr}\n",
    "\\Longrightarrow\n",
    "\\begin{cases}\n",
    "v \\rightarrow c \\\\\n",
    "u \\rightarrow u + d\n",
    "\\end{cases}\n",
    "$$"
   ]
  },
  {
   "cell_type": "markdown",
   "metadata": {},
   "source": [
    "# Isoclines\n",
    "\n",
    "$$\n",
    "\\begin{cases}\n",
    "0 = \\dot{v} = f\\left( v \\right) - u + I \\\\\n",
    "0 = \\dot{u} = a \\cdot \\left( b \\cdot v - u \\right)\n",
    "\\end{cases}\n",
    "\\Longrightarrow\n",
    "\\begin{cases}\n",
    "k_1 \\cdot v^2 + k_2 \\cdot v + k_3 - u + I = 0\\\\\n",
    "a \\cdot \\left( b \\cdot v - u \\right) = 0\n",
    "\\end{cases}\n",
    "\\Longrightarrow\n",
    "\\begin{cases}\n",
    "k_1 \\cdot v^2 + v \\cdot \\left( k_2 - b \\right) + k_3 + I = 0\\\\\n",
    "b \\cdot v = u\n",
    "\\end{cases}\n",
    "$$\n",
    "\n",
    "Discriminant for the first equation\n",
    "$$\n",
    "D = \\left( k_2 - b \\right)^2 - 4 \\cdot k_1 \\cdot \\left( k_3 + I \\right)\n",
    "$$\n",
    "\n",
    "Thus\n",
    "$$\n",
    "\\begin{cases}\n",
    "v_{1, 2} = \\frac{-b \\pm \\sqrt{\\left( k_2 - b \\right)^2 - 4 \\cdot k_1 \\cdot \\left( k_3 + I \\right)}}{2 \\cdot k_1} \\\\\n",
    "u_{1, 2} = v_{1, 2} \\cdot b\n",
    "\\end{cases}\n",
    "$$\n",
    "\n",
    "Critical value for $I$ can be fetched from the equation\n",
    "$$\n",
    "\\left( k_2 - b \\right)^2 - 4 \\cdot k_1 \\cdot \\left( k_3 + I \\right) = 0\n",
    "$$\n",
    "Result is\n",
    "$$\n",
    "I_{cr} = \\frac{\\left( k_2 - b \\right)^2}{4 \\cdot k_1} - k_3\n",
    "$$"
   ]
  },
  {
   "cell_type": "code",
   "execution_count": 5,
   "metadata": {
    "collapsed": false
   },
   "outputs": [
    {
     "data": {
      "text/plain": [
       "22.56249999999997"
      ]
     },
     "execution_count": 5,
     "metadata": {},
     "output_type": "execute_result"
    }
   ],
   "source": [
    "I_critical = ((k[1] - b)**2) / (4 * k[0]) - k[2]; I_critical"
   ]
  },
  {
   "cell_type": "code",
   "execution_count": 6,
   "metadata": {
    "collapsed": false
   },
   "outputs": [],
   "source": [
    "def v_critical(I):\n",
    "    return (- b + (b**2 - 4 * k[0] * (k[1] + k[2] + I))) / (2 * k[0])"
   ]
  },
  {
   "cell_type": "code",
   "execution_count": 7,
   "metadata": {
    "collapsed": true
   },
   "outputs": [],
   "source": [
    "def u_critical(I):\n",
    "    v = v_critical(I)\n",
    "    return v[0] * b, v[1] * b"
   ]
  },
  {
   "cell_type": "markdown",
   "metadata": {},
   "source": [
    "# Critical values\n",
    "\n",
    "$$\n",
    "\\begin{cases}\n",
    "v_{cr} = \\frac{-b}{2 \\cdot k_1} \\\\\n",
    "u_{cr} = \\frac{-b^2}{2 \\cdot k_1} = b \\cdot v_{cr}\n",
    "\\end{cases}\n",
    "$$"
   ]
  },
  {
   "cell_type": "markdown",
   "metadata": {},
   "source": [
    "# Linearization\n",
    "\n",
    "$$\n",
    "\\begin{cases}\n",
    "\\dot{v} = k_1 \\cdot v^2 + k_2 + k_3 - u + I \\\\\n",
    "\\dot{u} = a \\cdot \\left( b \\cdot v - u \\right)\n",
    "\\end{cases}\n",
    "$$\n",
    "\n",
    "Jacobian\n",
    "$$\n",
    "J =\n",
    "\\begin{bmatrix}\n",
    "k_1 \\cdot v & -1 \\\\\n",
    "a \\cdot b & -a\n",
    "\\end{bmatrix}\n",
    "$$\n",
    "\n",
    "Linearized Jacobian\n",
    "$$\n",
    "J_l =\n",
    "\\begin{bmatrix}\n",
    "\\frac{-b}{2} & -1 \\\\\n",
    "a \\cdot b & -a\n",
    "\\end{bmatrix}\n",
    "$$"
   ]
  },
  {
   "cell_type": "markdown",
   "metadata": {},
   "source": [
    "Characteristics polynomial\n",
    "$$\n",
    "\\begin{vmatrix}\n",
    "\\frac{-b}{2} - \\lambda & -1 \\\\\n",
    "a \\cdot b & -a - \\lambda\n",
    "\\end{vmatrix}\n",
    "= \\left( \\frac{b}{2} + \\lambda \\right) \\cdot \\left( a + \\lambda \\right) + a\n",
    "= \\frac{a \\cdot b}{2} + \\frac{b \\cdot \\lambda}{2} + \\lambda \\cdot a + \\lambda^2 + a\n",
    "= \\lambda^2 + \\lambda \\cdot \\frac{b + 2 \\cdot a}{2} + a \\cdot \\frac{b + 2}{2}\n",
    "$$"
   ]
  },
  {
   "cell_type": "markdown",
   "metadata": {},
   "source": [
    "Discriminant\n",
    "$$\n",
    "D = \\left( \\frac{b + 2 \\cdot a}{2} \\right)^2 - 2 \\cdot a \\cdot \\left( b + 2 \\right)\n",
    "$$\n",
    "Solutions\n",
    "$$\n",
    "\\lambda_{1, 2} = \\frac{- \\frac{b + 2 \\cdot a}{2} \\pm \\sqrt{\\left( \\frac{b + 2 \\cdot a}{2} \\right)^2 - 2 \\cdot a \\cdot \\left( b + 2 \\right)}}{2}\n",
    "$$"
   ]
  },
  {
   "cell_type": "code",
   "execution_count": 8,
   "metadata": {
    "collapsed": false
   },
   "outputs": [
    {
     "data": {
      "text/plain": [
       "((0.01500000000000001+0.1370218960604472j),\n",
       " (0.014999999999999993-0.1370218960604472j))"
      ]
     },
     "execution_count": 8,
     "metadata": {},
     "output_type": "execute_result"
    }
   ],
   "source": [
    "first = (b + 2*a) / 2\n",
    "second = first**2 - 2 * a * (b + 2)\n",
    "(- first + second**.5)/2, (- first - second**.5)/2"
   ]
  },
  {
   "cell_type": "markdown",
   "metadata": {},
   "source": [
    "$\\lambda_{1, 2} = 0.015 \\pm 0.137i$ &mdash; eigenvalues are complex-conjugated, real part is positive &mdash; we have unstable focus [equilibrium](http://www.scholarpedia.org/article/Equilibrium)"
   ]
  },
  {
   "cell_type": "markdown",
   "metadata": {},
   "source": [
    "# Eigenvectors\n",
    "\n",
    "By definition eigenvectors $e_{1, 2}$ can be found from the equation\n",
    "$$\n",
    "\\begin{bmatrix}\n",
    "\\frac{-b}{2} - \\lambda & -1 \\\\\n",
    "a \\cdot b & -a - \\lambda\n",
    "\\end{bmatrix}\n",
    "\\cdot v\n",
    "= v \\cdot \\lambda\n",
    "$$\n",
    "In scalar form\n",
    "$$\n",
    "\\begin{bmatrix}\n",
    "e_x \\cdot \\left( \\frac{-b}{2} - \\lambda \\right) - e_y \\\\\n",
    "e_x \\cdot a \\cdot b - e_y \\cdot \\left( a + \\lambda \\right)\n",
    "\\end{bmatrix}\n",
    "= \\begin{bmatrix} e_x \\\\ e_y \\end{bmatrix}\n",
    "\\cdot \\lambda\n",
    "$$\n",
    "Move right part to left\n",
    "$$\n",
    "\\begin{bmatrix}\n",
    "e_x \\cdot \\left( \\frac{-b}{2} - 2 \\cdot \\lambda \\right) - e_y \\\\\n",
    "e_x \\cdot a \\cdot b - e_y \\cdot \\left( a + 2 \\cdot \\lambda \\right)\n",
    "\\end{bmatrix}\n",
    "= \\begin{bmatrix} 0 \\\\ 0 \\end{bmatrix}\n",
    "$$\n",
    "Let's rewrite this as a product\n",
    "$$\n",
    "\\begin{bmatrix}\n",
    "\\left( \\frac{-b}{2} - 2 \\cdot \\lambda \\right) & -1 \\\\\n",
    "a \\cdot b & - \\left( a + 2 \\cdot \\lambda \\right)\n",
    "\\end{bmatrix}\n",
    "\\begin{bmatrix} e_x \\\\ e_y \\end{bmatrix}\n",
    "= \\begin{bmatrix} 0 \\\\ 0 \\end{bmatrix}\n",
    "$$\n",
    "We can easily find $e_y$\n",
    "$$\n",
    "e_y = e_x \\cdot \\left( \\frac{-b}{2} - 2 \\cdot \\lambda \\right)\n",
    "$$\n",
    "As the rank of matrix is $1$ because determinant is $0$ by condition of eigenvalues,\n",
    "we can have eigenvectors with $e_x = -2$\n",
    "$$\n",
    "e_{1, 2}\n",
    "= \\cdot \\begin{bmatrix}\n",
    "- 2 \\\\\n",
    "b + 4 \\cdot \\lambda_{1, 2}\n",
    "\\end{bmatrix}\n",
    "= \\begin{bmatrix}\n",
    "- 2 \\\\\n",
    "b - b - 2 \\cdot a \\pm 2 \\cdot \\sqrt{\\left( \\frac{b + 2 \\cdot a}{2} \\right)^2 - 2 \\cdot a \\cdot \\left( b + 2 \\right)}\n",
    "\\end{bmatrix}\n",
    "= \\begin{bmatrix}\n",
    "- 2 \\\\\n",
    "- a \\pm \\sqrt{\\left( \\frac{b + 2 \\cdot a}{2} \\right)^2 - 2 \\cdot a \\cdot \\left( b + 2 \\right)}\n",
    "\\end{bmatrix}\n",
    "$$"
   ]
  }
 ],
 "metadata": {
  "kernelspec": {
   "display_name": "Python 3",
   "language": "python",
   "name": "python3"
  },
  "language_info": {
   "codemirror_mode": {
    "name": "ipython",
    "version": 3
   },
   "file_extension": ".py",
   "mimetype": "text/x-python",
   "name": "python",
   "nbconvert_exporter": "python",
   "pygments_lexer": "ipython3",
   "version": "3.5.1"
  },
  "widgets": {
   "state": {},
   "version": "1.1.2"
  }
 },
 "nbformat": 4,
 "nbformat_minor": 0
}
