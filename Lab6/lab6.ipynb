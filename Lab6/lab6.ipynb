{
 "cells": [
  {
   "cell_type": "markdown",
   "metadata": {},
   "source": [
    "# Synchronization"
   ]
  },
  {
   "cell_type": "markdown",
   "metadata": {},
   "source": [
    "## Equation\n",
    "We have a logistic map:\n",
    "$$\n",
    "f \\left( x \\right) = \\mu \\cdot x \\cdot \\left( 1 - x \\right) \n",
    "$$\n",
    "We have cycle with order 2, when the equation\n",
    "$$\n",
    "x = \\mu^2 \\cdot x \\cdot \\left( 1 - x \\right)\\cdot \\left [1 - \\mu \\cdot x \\cdot \\left( 1 - x \\right) \\right]\n",
    "$$\n",
    "has two solutions\n",
    "$$\n",
    "\\begin{cases}\n",
    "x_2 = \\mu \\cdot x_1 \\cdot \\left( 1 - x_2 \\right)\\\\\n",
    "x_1 = \\mu \\cdot x_2 \\cdot \\left( 1 - x_1 \\right)\n",
    "\\end{cases}\n",
    "$$"
   ]
  },
  {
   "cell_type": "markdown",
   "metadata": {},
   "source": [
    "This means that either\n",
    "$$\n",
    "\\begin{cases}\n",
    "x_1 + x_2 = \\frac{1 + \\mu}{\\mu} \\\\\n",
    "x_1 \\cdot x_2 = \\frac{1 + \\mu}{\\mu^2}\n",
    "\\end{cases}\n",
    "$$\n",
    "Solutions are\n",
    "$$\n",
    "x_{1, 2} = \\frac{1 + \\mu \\pm \\sqrt{\\left(1 + \\mu \\right) \\cdot \\left(\\mu -3 \\right)}}{2 \\cdot \\mu}\n",
    "$$\n",
    "\n",
    "The cycle with order 2 is real when $\\mu>3$."
   ]
  },
  {
   "cell_type": "markdown",
   "metadata": {},
   "source": [
    "Finding the upper bound\n",
    "$$\n",
    "\\left(f \\left(f \\left( x_1 \\right)\\right)\\right)' = \\mu^2 \\cdot \\left(1 - 2 \\cdot \\left( x_1 + x_2 \\right) + 4 \\cdot x_1 \\cdot x_2 \\right)\n",
    "= - \\mu^2 + 2 \\cdot \\mu + 4 \n",
    "$$\n",
    "Solutions are\n",
    "$$\n",
    "\\mu_{1, 2} = 1 \\pm \\sqrt{6}\n",
    "$$\n",
    "\\mu_{1, 2} = 1 - \\sqrt{6} \\le 0\n",
    "$$\n",
    "So\n",
    "$$\n",
    "3 \\le \\mu \\le 3.45"
   ]
  },
  {
   "cell_type": "markdown",
   "metadata": {},
   "source": [
    "We have a system\n",
    "$$\n",
    "\\begin{cases}\n",
    "U_{n+1}  = \\frac{f \\left(U_n + V_n \\right) + f \\left(U_n - V_n \\right)}{2} \\\\\n",
    "V_{n+1} = \\left(\\frac{1}{2} - \\varepsilon \\right) \\cdot \\left[f \\left(U_n + V_n \\right) - f \\left(U_n - V_n \\right) \\right]\n",
    "\\end{cases}\n",
    "$$\n",
    "There are $V_0=0$. Then\n",
    "$$\n",
    "V_{n+1} = \\left(\\frac{1}{2} - \\varepsilon \\right) \\cdot \\left[f \\left(U_n \\right) - f \\left(U_n  \\right) \\right] = 0\n",
    "$$\n",
    "That's mean $V_0 = 0$ - fixed point. \n",
    "$$\n",
    "U_{n+1}  = f \\left(U_n\\right) \n",
    "$$\n"
   ]
  },
  {
   "cell_type": "markdown",
   "metadata": {},
   "source": [
    "## Critical values\n",
    "\n",
    "$$\n",
    "U_crit = \\frac{\\mu \\cdot U_0^2}{- \\mu + 1 + 2 \\cdot \\mu \\cdot U_0}\n",
    "$$\n",
    "\n",
    "$$\n",
    "\\varepsilon_{crit} = \\frac{1}{- 2 \\cdot \\mu \\cdot \\left( 1 - 2 \\cdot U_0 \\right)}+ \\frac{1}{2}\n",
    "$$\n",
    "\n",
    "If $V_n \\ge 0$, then $\\varepsilon_{crit}$ - lower bound\n",
    "\n",
    "If $V_n \\le 0$, then $\\varepsilon_{crit}$ - upper bound\n",
    "\n"
   ]
  },
  {
   "cell_type": "code",
   "execution_count": 1,
   "metadata": {
    "collapsed": false
   },
   "outputs": [],
   "source": [
    "%matplotlib inline\n",
    "import numpy as np\n",
    "import matplotlib.pyplot as plt\n",
    "import pylab"
   ]
  },
  {
   "cell_type": "code",
   "execution_count": 2,
   "metadata": {
    "collapsed": true
   },
   "outputs": [],
   "source": [
    "mu = 3.8\n",
    "n = 1000"
   ]
  }
 ],
 "metadata": {
  "kernelspec": {
   "display_name": "Python 3",
   "language": "python",
   "name": "python3"
  },
  "language_info": {
   "codemirror_mode": {
    "name": "ipython",
    "version": 3
   },
   "file_extension": ".py",
   "mimetype": "text/x-python",
   "name": "python",
   "nbconvert_exporter": "python",
   "pygments_lexer": "ipython3",
   "version": "3.5.1"
  },
  "widgets": {
   "state": {},
   "version": "1.1.2"
  }
 },
 "nbformat": 4,
 "nbformat_minor": 0
}
