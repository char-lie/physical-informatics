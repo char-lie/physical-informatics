{
 "cells": [
  {
   "cell_type": "markdown",
   "metadata": {},
   "source": [
    "# Lorenz attractor\n",
    "\n",
    "Differential equation\n",
    "\n",
    "$$\n",
    "\\frac{d\\overline{R}}{dt} = \n",
    "    \\begin{bmatrix}\n",
    "        \\sigma \\cdot \\left( y - x \\right) \\\\\n",
    "        -y + x \\cdot \\left( r - z \\right) \\\\\n",
    "        -b \\cdot z + x \\cdot y \\\\\n",
    "    \\end{bmatrix},\n",
    "\\qquad\n",
    "\\overline{R} =\n",
    "    \\begin{bmatrix}\n",
    "        x \\\\ y \\\\ z\n",
    "    \\end{bmatrix}\n",
    "$$\n",
    "\n",
    "Let's find fixed points\n",
    "\n",
    "$$\n",
    "\\frac{ d \\overline{R} }{ dt } =\n",
    "    \\begin{bmatrix}\n",
    "        0 \\\\ 0 \\\\ z\n",
    "    \\end{bmatrix}\n",
    "$$"
   ]
  }
 ],
 "metadata": {
  "kernelspec": {
   "display_name": "Python 3",
   "language": "python",
   "name": "python3"
  },
  "language_info": {
   "codemirror_mode": {
    "name": "ipython",
    "version": 3
   },
   "file_extension": ".py",
   "mimetype": "text/x-python",
   "name": "python",
   "nbconvert_exporter": "python",
   "pygments_lexer": "ipython3",
   "version": "3.5.1"
  },
  "widgets": {
   "state": {},
   "version": "1.1.2"
  }
 },
 "nbformat": 4,
 "nbformat_minor": 0
}
